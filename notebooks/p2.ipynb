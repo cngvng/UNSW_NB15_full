{
 "cells": [
  {
   "cell_type": "markdown",
   "metadata": {},
   "source": [
    "# Import library"
   ]
  },
  {
   "cell_type": "code",
   "execution_count": 22,
   "metadata": {},
   "outputs": [],
   "source": [
    "# importing required libraries\n",
    "import numpy as np\n",
    "import pandas as pd\n",
    "\n",
    "import seaborn as sns\n",
    "import matplotlib.pyplot as plt\n",
    "\n",
    "\n",
    "from os import path\n",
    "\n",
    "from sklearn.preprocessing import MinMaxScaler\n",
    "from sklearn.preprocessing import StandardScaler\n",
    "from sklearn.preprocessing import LabelEncoder\n",
    "\n",
    "from sklearn import metrics\n",
    "from sklearn import preprocessing\n",
    "from sklearn.metrics import accuracy_score\n",
    "from sklearn.model_selection import train_test_split \n",
    "from sklearn.metrics import classification_report"
   ]
  },
  {
   "cell_type": "markdown",
   "metadata": {},
   "source": [
    "# Load data"
   ]
  },
  {
   "cell_type": "code",
   "execution_count": 23,
   "metadata": {},
   "outputs": [],
   "source": [
    "data = pd.read_csv('../data/data_numerical/data_with_numerical_features.csv', index_col='Unnamed: 0')"
   ]
  },
  {
   "cell_type": "markdown",
   "metadata": {},
   "source": [
    "# Label Encoding"
   ]
  },
  {
   "cell_type": "code",
   "execution_count": 24,
   "metadata": {},
   "outputs": [
    {
     "data": {
      "text/html": [
       "<div>\n",
       "<style scoped>\n",
       "    .dataframe tbody tr th:only-of-type {\n",
       "        vertical-align: middle;\n",
       "    }\n",
       "\n",
       "    .dataframe tbody tr th {\n",
       "        vertical-align: top;\n",
       "    }\n",
       "\n",
       "    .dataframe thead th {\n",
       "        text-align: right;\n",
       "    }\n",
       "</style>\n",
       "<table border=\"1\" class=\"dataframe\">\n",
       "  <thead>\n",
       "    <tr style=\"text-align: right;\">\n",
       "      <th></th>\n",
       "      <th>attack_cat</th>\n",
       "    </tr>\n",
       "  </thead>\n",
       "  <tbody>\n",
       "    <tr>\n",
       "      <th>1070955</th>\n",
       "      <td>normal</td>\n",
       "    </tr>\n",
       "    <tr>\n",
       "      <th>916662</th>\n",
       "      <td>normal</td>\n",
       "    </tr>\n",
       "    <tr>\n",
       "      <th>1046586</th>\n",
       "      <td>normal</td>\n",
       "    </tr>\n",
       "    <tr>\n",
       "      <th>1063099</th>\n",
       "      <td>normal</td>\n",
       "    </tr>\n",
       "    <tr>\n",
       "      <th>521750</th>\n",
       "      <td>normal</td>\n",
       "    </tr>\n",
       "    <tr>\n",
       "      <th>...</th>\n",
       "      <td>...</td>\n",
       "    </tr>\n",
       "    <tr>\n",
       "      <th>230172</th>\n",
       "      <td>normal</td>\n",
       "    </tr>\n",
       "    <tr>\n",
       "      <th>1069661</th>\n",
       "      <td>normal</td>\n",
       "    </tr>\n",
       "    <tr>\n",
       "      <th>532255</th>\n",
       "      <td>normal</td>\n",
       "    </tr>\n",
       "    <tr>\n",
       "      <th>879681</th>\n",
       "      <td>normal</td>\n",
       "    </tr>\n",
       "    <tr>\n",
       "      <th>98939</th>\n",
       "      <td>normal</td>\n",
       "    </tr>\n",
       "  </tbody>\n",
       "</table>\n",
       "<p>305802 rows × 1 columns</p>\n",
       "</div>"
      ],
      "text/plain": [
       "        attack_cat\n",
       "1070955     normal\n",
       "916662      normal\n",
       "1046586     normal\n",
       "1063099     normal\n",
       "521750      normal\n",
       "...            ...\n",
       "230172      normal\n",
       "1069661     normal\n",
       "532255      normal\n",
       "879681      normal\n",
       "98939       normal\n",
       "\n",
       "[305802 rows x 1 columns]"
      ]
     },
     "execution_count": 24,
     "metadata": {},
     "output_type": "execute_result"
    }
   ],
   "source": [
    "# create a df from the column 'attack_cat' of the df data\n",
    "multi_label = pd.DataFrame(data.attack_cat)\n",
    "multi_label"
   ]
  },
  {
   "cell_type": "code",
   "execution_count": 25,
   "metadata": {},
   "outputs": [
    {
     "data": {
      "text/html": [
       "<div>\n",
       "<style scoped>\n",
       "    .dataframe tbody tr th:only-of-type {\n",
       "        vertical-align: middle;\n",
       "    }\n",
       "\n",
       "    .dataframe tbody tr th {\n",
       "        vertical-align: top;\n",
       "    }\n",
       "\n",
       "    .dataframe thead th {\n",
       "        text-align: right;\n",
       "    }\n",
       "</style>\n",
       "<table border=\"1\" class=\"dataframe\">\n",
       "  <thead>\n",
       "    <tr style=\"text-align: right;\">\n",
       "      <th></th>\n",
       "      <th>attack_cat</th>\n",
       "    </tr>\n",
       "  </thead>\n",
       "  <tbody>\n",
       "    <tr>\n",
       "      <th>1070955</th>\n",
       "      <td>5</td>\n",
       "    </tr>\n",
       "    <tr>\n",
       "      <th>916662</th>\n",
       "      <td>5</td>\n",
       "    </tr>\n",
       "    <tr>\n",
       "      <th>1046586</th>\n",
       "      <td>5</td>\n",
       "    </tr>\n",
       "    <tr>\n",
       "      <th>1063099</th>\n",
       "      <td>5</td>\n",
       "    </tr>\n",
       "    <tr>\n",
       "      <th>521750</th>\n",
       "      <td>5</td>\n",
       "    </tr>\n",
       "    <tr>\n",
       "      <th>...</th>\n",
       "      <td>...</td>\n",
       "    </tr>\n",
       "    <tr>\n",
       "      <th>230172</th>\n",
       "      <td>5</td>\n",
       "    </tr>\n",
       "    <tr>\n",
       "      <th>1069661</th>\n",
       "      <td>5</td>\n",
       "    </tr>\n",
       "    <tr>\n",
       "      <th>532255</th>\n",
       "      <td>5</td>\n",
       "    </tr>\n",
       "    <tr>\n",
       "      <th>879681</th>\n",
       "      <td>5</td>\n",
       "    </tr>\n",
       "    <tr>\n",
       "      <th>98939</th>\n",
       "      <td>5</td>\n",
       "    </tr>\n",
       "  </tbody>\n",
       "</table>\n",
       "<p>305802 rows × 1 columns</p>\n",
       "</div>"
      ],
      "text/plain": [
       "         attack_cat\n",
       "1070955           5\n",
       "916662            5\n",
       "1046586           5\n",
       "1063099           5\n",
       "521750            5\n",
       "...             ...\n",
       "230172            5\n",
       "1069661           5\n",
       "532255            5\n",
       "879681            5\n",
       "98939             5\n",
       "\n",
       "[305802 rows x 1 columns]"
      ]
     },
     "execution_count": 25,
     "metadata": {},
     "output_type": "execute_result"
    }
   ],
   "source": [
    "# create another df that contains numeric values\n",
    "le2 = preprocessing.LabelEncoder()\n",
    "enc_label = multi_label.apply(le2.fit_transform)\n",
    "enc_label"
   ]
  },
  {
   "cell_type": "code",
   "execution_count": 26,
   "metadata": {},
   "outputs": [
    {
     "data": {
      "text/plain": [
       "1070955    0.0\n",
       "916662     0.0\n",
       "1046586    0.0\n",
       "1063099    0.0\n",
       "521750     0.0\n",
       "          ... \n",
       "230172     0.0\n",
       "1069661    0.0\n",
       "532255     0.0\n",
       "879681     0.0\n",
       "98939      0.0\n",
       "Name: label, Length: 305802, dtype: float64"
      ]
     },
     "execution_count": 26,
     "metadata": {},
     "output_type": "execute_result"
    }
   ],
   "source": [
    "# However, the column 'label' has not yet been adjusted.\n",
    "data['label']"
   ]
  },
  {
   "cell_type": "code",
   "execution_count": 27,
   "metadata": {},
   "outputs": [
    {
     "data": {
      "text/plain": [
       "1070955    5\n",
       "916662     5\n",
       "1046586    5\n",
       "1063099    5\n",
       "521750     5\n",
       "          ..\n",
       "230172     5\n",
       "1069661    5\n",
       "532255     5\n",
       "879681     5\n",
       "98939      5\n",
       "Name: label, Length: 305802, dtype: int64"
      ]
     },
     "execution_count": 27,
     "metadata": {},
     "output_type": "execute_result"
    }
   ],
   "source": [
    "data['label'] = enc_label\n",
    "# Now, the column 'label' has been adjusted appropriately.\n",
    "data['label']"
   ]
  },
  {
   "cell_type": "code",
   "execution_count": 28,
   "metadata": {},
   "outputs": [
    {
     "data": {
      "text/html": [
       "<div>\n",
       "<style scoped>\n",
       "    .dataframe tbody tr th:only-of-type {\n",
       "        vertical-align: middle;\n",
       "    }\n",
       "\n",
       "    .dataframe tbody tr th {\n",
       "        vertical-align: top;\n",
       "    }\n",
       "\n",
       "    .dataframe thead th {\n",
       "        text-align: right;\n",
       "    }\n",
       "</style>\n",
       "<table border=\"1\" class=\"dataframe\">\n",
       "  <thead>\n",
       "    <tr style=\"text-align: right;\">\n",
       "      <th></th>\n",
       "      <th>srcip</th>\n",
       "      <th>sport</th>\n",
       "      <th>dstip</th>\n",
       "      <th>dsport</th>\n",
       "      <th>dur</th>\n",
       "      <th>sbytes</th>\n",
       "      <th>dbytes</th>\n",
       "      <th>sttl</th>\n",
       "      <th>dttl</th>\n",
       "      <th>sloss</th>\n",
       "      <th>...</th>\n",
       "      <th>state_REQ</th>\n",
       "      <th>state_RST</th>\n",
       "      <th>attack_cat_backdoors</th>\n",
       "      <th>attack_cat_dos</th>\n",
       "      <th>attack_cat_exploits</th>\n",
       "      <th>attack_cat_fuzzers</th>\n",
       "      <th>attack_cat_generic</th>\n",
       "      <th>attack_cat_normal</th>\n",
       "      <th>attack_cat_reconnaissance</th>\n",
       "      <th>attack_cat_worms</th>\n",
       "    </tr>\n",
       "  </thead>\n",
       "  <tbody>\n",
       "    <tr>\n",
       "      <th>1070955</th>\n",
       "      <td>59.166.0.1</td>\n",
       "      <td>4951</td>\n",
       "      <td>149.171.126.9</td>\n",
       "      <td>21</td>\n",
       "      <td>0.013459</td>\n",
       "      <td>0.000294</td>\n",
       "      <td>0.000787</td>\n",
       "      <td>0.0</td>\n",
       "      <td>0.114625</td>\n",
       "      <td>0.002998</td>\n",
       "      <td>...</td>\n",
       "      <td>0.0</td>\n",
       "      <td>0.0</td>\n",
       "      <td>0</td>\n",
       "      <td>0</td>\n",
       "      <td>0</td>\n",
       "      <td>0</td>\n",
       "      <td>0</td>\n",
       "      <td>1</td>\n",
       "      <td>0</td>\n",
       "      <td>0</td>\n",
       "    </tr>\n",
       "    <tr>\n",
       "      <th>916662</th>\n",
       "      <td>59.166.0.4</td>\n",
       "      <td>62358</td>\n",
       "      <td>149.171.126.1</td>\n",
       "      <td>25</td>\n",
       "      <td>0.001210</td>\n",
       "      <td>0.003865</td>\n",
       "      <td>0.000712</td>\n",
       "      <td>0.0</td>\n",
       "      <td>0.114625</td>\n",
       "      <td>0.005179</td>\n",
       "      <td>...</td>\n",
       "      <td>0.0</td>\n",
       "      <td>0.0</td>\n",
       "      <td>0</td>\n",
       "      <td>0</td>\n",
       "      <td>0</td>\n",
       "      <td>0</td>\n",
       "      <td>0</td>\n",
       "      <td>1</td>\n",
       "      <td>0</td>\n",
       "      <td>0</td>\n",
       "    </tr>\n",
       "    <tr>\n",
       "      <th>1046586</th>\n",
       "      <td>59.166.0.5</td>\n",
       "      <td>57496</td>\n",
       "      <td>149.171.126.2</td>\n",
       "      <td>53</td>\n",
       "      <td>0.000018</td>\n",
       "      <td>0.000009</td>\n",
       "      <td>0.000037</td>\n",
       "      <td>0.0</td>\n",
       "      <td>0.114625</td>\n",
       "      <td>0.000000</td>\n",
       "      <td>...</td>\n",
       "      <td>0.0</td>\n",
       "      <td>0.0</td>\n",
       "      <td>0</td>\n",
       "      <td>0</td>\n",
       "      <td>0</td>\n",
       "      <td>0</td>\n",
       "      <td>0</td>\n",
       "      <td>1</td>\n",
       "      <td>0</td>\n",
       "      <td>0</td>\n",
       "    </tr>\n",
       "    <tr>\n",
       "      <th>1063099</th>\n",
       "      <td>59.166.0.1</td>\n",
       "      <td>62868</td>\n",
       "      <td>149.171.126.0</td>\n",
       "      <td>47026</td>\n",
       "      <td>0.000816</td>\n",
       "      <td>0.000907</td>\n",
       "      <td>0.000089</td>\n",
       "      <td>0.0</td>\n",
       "      <td>0.114625</td>\n",
       "      <td>0.001090</td>\n",
       "      <td>...</td>\n",
       "      <td>0.0</td>\n",
       "      <td>0.0</td>\n",
       "      <td>0</td>\n",
       "      <td>0</td>\n",
       "      <td>0</td>\n",
       "      <td>0</td>\n",
       "      <td>0</td>\n",
       "      <td>1</td>\n",
       "      <td>0</td>\n",
       "      <td>0</td>\n",
       "    </tr>\n",
       "    <tr>\n",
       "      <th>521750</th>\n",
       "      <td>59.166.0.7</td>\n",
       "      <td>39489</td>\n",
       "      <td>149.171.126.3</td>\n",
       "      <td>53</td>\n",
       "      <td>0.000019</td>\n",
       "      <td>0.000009</td>\n",
       "      <td>0.000037</td>\n",
       "      <td>0.0</td>\n",
       "      <td>0.114625</td>\n",
       "      <td>0.000000</td>\n",
       "      <td>...</td>\n",
       "      <td>0.0</td>\n",
       "      <td>0.0</td>\n",
       "      <td>0</td>\n",
       "      <td>0</td>\n",
       "      <td>0</td>\n",
       "      <td>0</td>\n",
       "      <td>0</td>\n",
       "      <td>1</td>\n",
       "      <td>0</td>\n",
       "      <td>0</td>\n",
       "    </tr>\n",
       "    <tr>\n",
       "      <th>...</th>\n",
       "      <td>...</td>\n",
       "      <td>...</td>\n",
       "      <td>...</td>\n",
       "      <td>...</td>\n",
       "      <td>...</td>\n",
       "      <td>...</td>\n",
       "      <td>...</td>\n",
       "      <td>...</td>\n",
       "      <td>...</td>\n",
       "      <td>...</td>\n",
       "      <td>...</td>\n",
       "      <td>...</td>\n",
       "      <td>...</td>\n",
       "      <td>...</td>\n",
       "      <td>...</td>\n",
       "      <td>...</td>\n",
       "      <td>...</td>\n",
       "      <td>...</td>\n",
       "      <td>...</td>\n",
       "      <td>...</td>\n",
       "      <td>...</td>\n",
       "    </tr>\n",
       "    <tr>\n",
       "      <th>230172</th>\n",
       "      <td>59.166.0.7</td>\n",
       "      <td>52739</td>\n",
       "      <td>149.171.126.4</td>\n",
       "      <td>21</td>\n",
       "      <td>0.014025</td>\n",
       "      <td>0.000294</td>\n",
       "      <td>0.000788</td>\n",
       "      <td>0.0</td>\n",
       "      <td>0.114625</td>\n",
       "      <td>0.002998</td>\n",
       "      <td>...</td>\n",
       "      <td>0.0</td>\n",
       "      <td>0.0</td>\n",
       "      <td>0</td>\n",
       "      <td>0</td>\n",
       "      <td>0</td>\n",
       "      <td>0</td>\n",
       "      <td>0</td>\n",
       "      <td>1</td>\n",
       "      <td>0</td>\n",
       "      <td>0</td>\n",
       "    </tr>\n",
       "    <tr>\n",
       "      <th>1069661</th>\n",
       "      <td>59.166.0.3</td>\n",
       "      <td>32346</td>\n",
       "      <td>149.171.126.5</td>\n",
       "      <td>53</td>\n",
       "      <td>0.000018</td>\n",
       "      <td>0.000009</td>\n",
       "      <td>0.000037</td>\n",
       "      <td>0.0</td>\n",
       "      <td>0.114625</td>\n",
       "      <td>0.000000</td>\n",
       "      <td>...</td>\n",
       "      <td>0.0</td>\n",
       "      <td>0.0</td>\n",
       "      <td>0</td>\n",
       "      <td>0</td>\n",
       "      <td>0</td>\n",
       "      <td>0</td>\n",
       "      <td>0</td>\n",
       "      <td>1</td>\n",
       "      <td>0</td>\n",
       "      <td>0</td>\n",
       "    </tr>\n",
       "    <tr>\n",
       "      <th>532255</th>\n",
       "      <td>59.166.0.2</td>\n",
       "      <td>7346</td>\n",
       "      <td>149.171.126.3</td>\n",
       "      <td>53</td>\n",
       "      <td>0.000017</td>\n",
       "      <td>0.000008</td>\n",
       "      <td>0.000034</td>\n",
       "      <td>0.0</td>\n",
       "      <td>0.114625</td>\n",
       "      <td>0.000000</td>\n",
       "      <td>...</td>\n",
       "      <td>0.0</td>\n",
       "      <td>0.0</td>\n",
       "      <td>0</td>\n",
       "      <td>0</td>\n",
       "      <td>0</td>\n",
       "      <td>0</td>\n",
       "      <td>0</td>\n",
       "      <td>1</td>\n",
       "      <td>0</td>\n",
       "      <td>0</td>\n",
       "    </tr>\n",
       "    <tr>\n",
       "      <th>879681</th>\n",
       "      <td>59.166.0.9</td>\n",
       "      <td>18776</td>\n",
       "      <td>149.171.126.3</td>\n",
       "      <td>53</td>\n",
       "      <td>0.000020</td>\n",
       "      <td>0.000009</td>\n",
       "      <td>0.000037</td>\n",
       "      <td>0.0</td>\n",
       "      <td>0.114625</td>\n",
       "      <td>0.000000</td>\n",
       "      <td>...</td>\n",
       "      <td>0.0</td>\n",
       "      <td>0.0</td>\n",
       "      <td>0</td>\n",
       "      <td>0</td>\n",
       "      <td>0</td>\n",
       "      <td>0</td>\n",
       "      <td>0</td>\n",
       "      <td>1</td>\n",
       "      <td>0</td>\n",
       "      <td>0</td>\n",
       "    </tr>\n",
       "    <tr>\n",
       "      <th>98939</th>\n",
       "      <td>59.166.0.8</td>\n",
       "      <td>32959</td>\n",
       "      <td>149.171.126.6</td>\n",
       "      <td>53</td>\n",
       "      <td>0.000017</td>\n",
       "      <td>0.000008</td>\n",
       "      <td>0.000034</td>\n",
       "      <td>0.0</td>\n",
       "      <td>0.114625</td>\n",
       "      <td>0.000000</td>\n",
       "      <td>...</td>\n",
       "      <td>0.0</td>\n",
       "      <td>0.0</td>\n",
       "      <td>0</td>\n",
       "      <td>0</td>\n",
       "      <td>0</td>\n",
       "      <td>0</td>\n",
       "      <td>0</td>\n",
       "      <td>1</td>\n",
       "      <td>0</td>\n",
       "      <td>0</td>\n",
       "    </tr>\n",
       "  </tbody>\n",
       "</table>\n",
       "<p>305802 rows × 74 columns</p>\n",
       "</div>"
      ],
      "text/plain": [
       "              srcip  sport          dstip  dsport       dur    sbytes  \\\n",
       "1070955  59.166.0.1   4951  149.171.126.9      21  0.013459  0.000294   \n",
       "916662   59.166.0.4  62358  149.171.126.1      25  0.001210  0.003865   \n",
       "1046586  59.166.0.5  57496  149.171.126.2      53  0.000018  0.000009   \n",
       "1063099  59.166.0.1  62868  149.171.126.0   47026  0.000816  0.000907   \n",
       "521750   59.166.0.7  39489  149.171.126.3      53  0.000019  0.000009   \n",
       "...             ...    ...            ...     ...       ...       ...   \n",
       "230172   59.166.0.7  52739  149.171.126.4      21  0.014025  0.000294   \n",
       "1069661  59.166.0.3  32346  149.171.126.5      53  0.000018  0.000009   \n",
       "532255   59.166.0.2   7346  149.171.126.3      53  0.000017  0.000008   \n",
       "879681   59.166.0.9  18776  149.171.126.3      53  0.000020  0.000009   \n",
       "98939    59.166.0.8  32959  149.171.126.6      53  0.000017  0.000008   \n",
       "\n",
       "           dbytes  sttl      dttl     sloss  ...  state_REQ  state_RST  \\\n",
       "1070955  0.000787   0.0  0.114625  0.002998  ...        0.0        0.0   \n",
       "916662   0.000712   0.0  0.114625  0.005179  ...        0.0        0.0   \n",
       "1046586  0.000037   0.0  0.114625  0.000000  ...        0.0        0.0   \n",
       "1063099  0.000089   0.0  0.114625  0.001090  ...        0.0        0.0   \n",
       "521750   0.000037   0.0  0.114625  0.000000  ...        0.0        0.0   \n",
       "...           ...   ...       ...       ...  ...        ...        ...   \n",
       "230172   0.000788   0.0  0.114625  0.002998  ...        0.0        0.0   \n",
       "1069661  0.000037   0.0  0.114625  0.000000  ...        0.0        0.0   \n",
       "532255   0.000034   0.0  0.114625  0.000000  ...        0.0        0.0   \n",
       "879681   0.000037   0.0  0.114625  0.000000  ...        0.0        0.0   \n",
       "98939    0.000034   0.0  0.114625  0.000000  ...        0.0        0.0   \n",
       "\n",
       "         attack_cat_backdoors  attack_cat_dos  attack_cat_exploits  \\\n",
       "1070955                     0               0                    0   \n",
       "916662                      0               0                    0   \n",
       "1046586                     0               0                    0   \n",
       "1063099                     0               0                    0   \n",
       "521750                      0               0                    0   \n",
       "...                       ...             ...                  ...   \n",
       "230172                      0               0                    0   \n",
       "1069661                     0               0                    0   \n",
       "532255                      0               0                    0   \n",
       "879681                      0               0                    0   \n",
       "98939                       0               0                    0   \n",
       "\n",
       "         attack_cat_fuzzers  attack_cat_generic  attack_cat_normal  \\\n",
       "1070955                   0                   0                  1   \n",
       "916662                    0                   0                  1   \n",
       "1046586                   0                   0                  1   \n",
       "1063099                   0                   0                  1   \n",
       "521750                    0                   0                  1   \n",
       "...                     ...                 ...                ...   \n",
       "230172                    0                   0                  1   \n",
       "1069661                   0                   0                  1   \n",
       "532255                    0                   0                  1   \n",
       "879681                    0                   0                  1   \n",
       "98939                     0                   0                  1   \n",
       "\n",
       "         attack_cat_reconnaissance  attack_cat_worms  \n",
       "1070955                          0                 0  \n",
       "916662                           0                 0  \n",
       "1046586                          0                 0  \n",
       "1063099                          0                 0  \n",
       "521750                           0                 0  \n",
       "...                            ...               ...  \n",
       "230172                           0                 0  \n",
       "1069661                          0                 0  \n",
       "532255                           0                 0  \n",
       "879681                           0                 0  \n",
       "98939                            0                 0  \n",
       "\n",
       "[305802 rows x 74 columns]"
      ]
     },
     "execution_count": 28,
     "metadata": {},
     "output_type": "execute_result"
    }
   ],
   "source": [
    "# LABEL ENCODING:\n",
    "# For example, if 'attack_cat' has 9 categories (Analysis, Backdoor, ..., Worms)\n",
    "# then the use of .get_dummies() will replace the column 'attack_cat' by 9 new columns.\n",
    "# The new columns include 'attack_cat_Analysis', 'attack_cat_Backdoor', ..., 'attack_cat_Worms'.\n",
    "data = pd.get_dummies(data, columns=['attack_cat'])\n",
    "data"
   ]
  },
  {
   "cell_type": "markdown",
   "metadata": {},
   "source": [
    "# Correlation between features of dataset"
   ]
  },
  {
   "cell_type": "code",
   "execution_count": 29,
   "metadata": {},
   "outputs": [
    {
     "name": "stdout",
     "output_type": "stream",
     "text": [
      "['sport', 'dsport', 'dur', 'sbytes', 'dbytes', 'sttl', 'dttl', 'sloss', 'dloss', 'sload', 'dload', 'spkts', 'dpkts', 'swin', 'dwin', 'stcpb', 'dtcpb', 'smeansz', 'dmeansz', 'trans_depth', 'res_bdy_len', 'sjit', 'djit', 'stime', 'ltime', 'sintpkt', 'dintpkt', 'tcprtt', 'synack', 'ackdat', 'is_sm_ips_ports', 'ct_state_ttl', 'ct_flw_http_mthd', 'is_ftp_login', 'ct_ftp_cmd', 'ct_srv_src', 'ct_srv_dst', 'ct_dst_ltm', 'ct_src_ltm', 'ct_src_dport_ltm', 'ct_dst_sport_ltm', 'ct_dst_src_ltm', 'label', 'proto_tcp', 'proto_udp', 'service_dhcp', 'service_dns', 'service_ftp', 'service_ftp-data', 'service_http', 'service_irc', 'service_pop3', 'service_radius', 'service_smtp', 'service_snmp', 'service_ssh', 'service_ssl', 'state_ACC', 'state_CLO', 'state_CON', 'state_FIN', 'state_INT', 'state_REQ', 'state_RST', 'attack_cat_backdoors', 'attack_cat_dos', 'attack_cat_exploits', 'attack_cat_fuzzers', 'attack_cat_generic', 'attack_cat_normal', 'attack_cat_reconnaissance', 'attack_cat_worms']\n"
     ]
    }
   ],
   "source": [
    "# select all columns of numeric types (including the label column if applicable)\n",
    "num_col = list(data.select_dtypes(include='number').columns)\n",
    "print(num_col)"
   ]
  },
  {
   "cell_type": "code",
   "execution_count": 30,
   "metadata": {},
   "outputs": [
    {
     "data": {
      "text/plain": [
       "72"
      ]
     },
     "execution_count": 30,
     "metadata": {},
     "output_type": "execute_result"
    }
   ],
   "source": [
    "len(num_col)"
   ]
  },
  {
   "cell_type": "code",
   "execution_count": 31,
   "metadata": {},
   "outputs": [],
   "source": [
    "# compute pairwise correlation of columns\n",
    "corr_matrix = data[num_col].corr()"
   ]
  },
  {
   "cell_type": "code",
   "execution_count": 32,
   "metadata": {},
   "outputs": [
    {
     "data": {
      "text/plain": [
       "(72, 72)"
      ]
     },
     "execution_count": 32,
     "metadata": {},
     "output_type": "execute_result"
    }
   ],
   "source": [
    "corr_matrix.shape"
   ]
  },
  {
   "cell_type": "code",
   "execution_count": 33,
   "metadata": {},
   "outputs": [
    {
     "data": {
      "image/png": "[encoded data removed]",
      "text/plain": [
       "<Figure size 432x288 with 2 Axes>"
      ]
     },
     "metadata": {
      "needs_background": "light"
     },
     "output_type": "display_data"
    }
   ],
   "source": [
    "# Correlation Matrix for Multi-class Labels\n",
    "plt.figure()\n",
    "sns.heatmap(corr_matrix)\n",
    "plt.title('Correlation matrix', fontsize=16)\n",
    "plt.savefig('../plots/correlation_matrix_multi.png')\n",
    "plt.show()"
   ]
  },
  {
   "cell_type": "markdown",
   "metadata": {},
   "source": [
    "# Feature Selection"
   ]
  },
  {
   "cell_type": "code",
   "execution_count": 34,
   "metadata": {},
   "outputs": [
    {
     "data": {
      "text/plain": [
       "sport                        0.008341\n",
       "dsport                       0.022568\n",
       "dur                         -0.036179\n",
       "sbytes                      -0.088411\n",
       "dbytes                       0.011452\n",
       "                               ...   \n",
       "attack_cat_fuzzers          -0.223584\n",
       "attack_cat_generic          -0.442828\n",
       "attack_cat_normal            0.830175\n",
       "attack_cat_reconnaissance    0.086337\n",
       "attack_cat_worms             0.049102\n",
       "Name: label, Length: 72, dtype: float64"
      ]
     },
     "execution_count": 34,
     "metadata": {},
     "output_type": "execute_result"
    }
   ],
   "source": [
    "# corr. value between X and Y, where X = 'label' and Y is an arbitrary column\n",
    "corr_xy_given_x_is_label = corr_matrix['label']\n",
    "corr_xy_given_x_is_label"
   ]
  },
  {
   "cell_type": "code",
   "execution_count": 35,
   "metadata": {},
   "outputs": [
    {
     "data": {
      "text/plain": [
       "sttl                  -0.603906\n",
       "dttl                  -0.695958\n",
       "stime                  0.189091\n",
       "ltime                  0.189086\n",
       "tcprtt                -0.687512\n",
       "synack                -0.626968\n",
       "ackdat                -0.700732\n",
       "ct_state_ttl          -0.690811\n",
       "ct_srv_src            -0.169348\n",
       "ct_srv_dst            -0.163855\n",
       "label                  1.000000\n",
       "service_pop3          -0.239378\n",
       "state_INT             -0.311862\n",
       "attack_cat_dos        -0.347467\n",
       "attack_cat_exploits   -0.780584\n",
       "attack_cat_fuzzers    -0.223584\n",
       "attack_cat_generic    -0.442828\n",
       "attack_cat_normal      0.830175\n",
       "Name: label, dtype: float64"
      ]
     },
     "execution_count": 35,
     "metadata": {},
     "output_type": "execute_result"
    }
   ],
   "source": [
    "most_corr_values = corr_xy_given_x_is_label[ abs(corr_xy_given_x_is_label) > 0.15 ] #>0.3\n",
    "most_corr_values"
   ]
  },
  {
   "cell_type": "code",
   "execution_count": 36,
   "metadata": {},
   "outputs": [
    {
     "name": "stdout",
     "output_type": "stream",
     "text": [
      "18\n"
     ]
    },
    {
     "data": {
      "text/plain": [
       "Index(['sttl', 'dttl', 'stime', 'ltime', 'tcprtt', 'synack', 'ackdat',\n",
       "       'ct_state_ttl', 'ct_srv_src', 'ct_srv_dst', 'label', 'service_pop3',\n",
       "       'state_INT', 'attack_cat_dos', 'attack_cat_exploits',\n",
       "       'attack_cat_fuzzers', 'attack_cat_generic', 'attack_cat_normal'],\n",
       "      dtype='object')"
      ]
     },
     "execution_count": 36,
     "metadata": {},
     "output_type": "execute_result"
    }
   ],
   "source": [
    "print(len(most_corr_values))\n",
    "# indexing\n",
    "multi_cols = most_corr_values.index\n",
    "multi_cols"
   ]
  },
  {
   "cell_type": "code",
   "execution_count": 37,
   "metadata": {},
   "outputs": [],
   "source": [
    "# the data extracted from the data ''data''\n",
    "multi_data = data[multi_cols]"
   ]
  },
  {
   "cell_type": "markdown",
   "metadata": {},
   "source": [
    "# Multi-Class Classification"
   ]
  },
  {
   "cell_type": "code",
   "execution_count": 38,
   "metadata": {},
   "outputs": [],
   "source": [
    "X = multi_data.drop(columns=['label'], axis=1)\n",
    "Y = multi_data['label']\n",
    "X_train, X_test, y_train, y_test = train_test_split(X, Y,\n",
    "                                                    test_size=0.20,\n",
    "                                                    random_state=50)"
   ]
  },
  {
   "cell_type": "markdown",
   "metadata": {},
   "source": [
    "# Save data"
   ]
  },
  {
   "cell_type": "code",
   "execution_count": 39,
   "metadata": {},
   "outputs": [],
   "source": [
    "X_train.to_csv('../data/data_numerical/multiple_classification/X_train.csv')\n",
    "X_test.to_csv('../data/data_numerical/multiple_classification/X_test.csv')\n",
    "y_train.to_csv('../data/data_numerical/multiple_classification/y_train.csv')\n",
    "y_test.to_csv('../data/data_numerical/multiple_classification/y_test.csv')"
   ]
  },
  {
   "cell_type": "code",
   "execution_count": null,
   "metadata": {},
   "outputs": [],
   "source": []
  }
 ],
 "metadata": {
  "interpreter": {
   "hash": "3a2b7882b050a6f9edaee68e4146d683b38bfa104a50adb91634f2e86778e6d4"
  },
  "kernelspec": {
   "display_name": "Python 3 (ipykernel)",
   "language": "python",
   "name": "python3"
  },
  "language_info": {
   "codemirror_mode": {
    "name": "ipython",
    "version": 3
   },
   "file_extension": ".py",
   "mimetype": "text/x-python",
   "name": "python",
   "nbconvert_exporter": "python",
   "pygments_lexer": "ipython3",
   "version": "3.9.5"
  }
 },
 "nbformat": 4,
 "nbformat_minor": 2
}
