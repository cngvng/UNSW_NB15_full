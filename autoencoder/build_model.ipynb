{
 "cells": [
  {
   "cell_type": "code",
   "execution_count": 2,
   "metadata": {},
   "outputs": [],
   "source": [
    "from keras.models import Model\n",
    "from keras.layers import  Dense, Input\n",
    "from keras.regularizers import Regularizer\n",
    "from tensorflow.keras.layers import BatchNormalization\n",
    "from tensorflow.keras.optimizers import Adam\n",
    "import keras.backend as K"
   ]
  },
  {
   "cell_type": "code",
   "execution_count": 3,
   "metadata": {},
   "outputs": [],
   "source": [
    "class Sparse(Regularizer):\n",
    "    def __init__(self, rho=0.005, alpha=10):\n",
    "        self.rho = rho\n",
    "        self.alpha = alpha\n",
    "    \n",
    "    def __call__(self, x):\n",
    "        rho_hat = K.mean(x)\n",
    "        regularization = self.rho * K.log(self.rho / rho_hat) + (1 - self.rho) * K.log((1-self.rho) / (1-rho_hat))\n",
    "        return self.alpha * regularization\n",
    "\n",
    "    def get_config(self):\n",
    "        return {'rho': float(self.rho),\n",
    "                'alpha': float(self.alpha)}"
   ]
  },
  {
   "cell_type": "code",
   "execution_count": 4,
   "metadata": {},
   "outputs": [],
   "source": [
    "def build_SAE(rho=0.05):\n",
    "\n",
    "    # first step is to define a sSAE and pre-training\n",
    "    # Layer 1\n",
    "    input_traffic = Input(shape=(100, ))\n",
    "    encoded_1 = Dense(128, activation='relu', activity_regularizer=Sparse(rho))(input_traffic)\n",
    "    encoded_1_bn = BatchNormalization()(encoded_1)\n",
    "    decoded_1 = Dense(196, activation='relu', activity_regularizer=Sparse(rho))(encoded_1_bn)\n",
    "\n",
    "    autoendoder_1 = Model(inputs=input_traffic, outputs=decoded_1)\n",
    "    encoder_1 = Model(inputs=input_traffic, outputs=encoded_1_bn)\n",
    "\n",
    "    # Layer 2\n",
    "    encoded1_input = Input(shape=(50, ))\n",
    "    encoded_2 = Dense(32, activation='relu', activity_regularizer=Sparse(rho))(encoded1_input)\n",
    "    encoded_2_bn = BatchNormalization()(encoded_2)\n",
    "    decoded_2 = Dense(128, activation='relu', activity_regularizer=Sparse(rho))(encoded_2_bn)\n",
    "\n",
    "    autoendoder_2 = Model(inputs=encoded1_input, outputs=decoded_2)\n",
    "    encoder_2 = Model(inputs=encoded1_input, outputs=encoded_2_bn)\n",
    "\n",
    "    # Layer 3\n",
    "    encoded2_input = Input(shape=(30, ))\n",
    "    encoded_3 = Dense(32, activation='relu', activity_regularizer=Sparse(rho))(encoded2_input)\n",
    "    encoded_3_bn = BatchNormalization()(encoded_3)\n",
    "    decoded_3 = Dense(32, activation='relu', activity_regularizer=Sparse(rho))(encoded_3_bn)\n",
    "\n",
    "    autoendoder_3 = Model(inputs=encoded2_input, outputs=decoded_3)\n",
    "    encoder_3 = Model(inputs=encoded2_input, outputs=encoded_3_bn)\n",
    "\n",
    "    optimize_1 = Adam(lr=0.001, beta_1=0.9, beta_2=0.999, epsilon=1e-8)\n",
    "    autoendoder_1.compile(loss='mse', optimizer=optimize_1)\n",
    "    encoder_1.compile(loss='mse', optimizer=optimize_1)\n",
    "\n",
    "    optimize_2 = Adam(lr=0.001, beta_1=0.9, beta_2=0.999, epsilon=1e-8)\n",
    "    autoendoder_2.compile(loss='mse', optimizer=optimize_2)\n",
    "    encoder_2.compile(loss='mse', optimizer=optimize_2)\n",
    "\n",
    "    optimize_3 = Adam(lr=0.001, beta_1=0.9, beta_2=0.999, epsilon=1e-8)\n",
    "    autoendoder_3.compile(loss='mse', optimizer=optimize_3)\n",
    "    encoder_3.compile(loss='mse', optimizer=optimize_3)\n",
    "\n",
    "    model_input = Input(shape=(196,))\n",
    "    model_encoded_1 = Dense(128, activation='relu')(model_input)\n",
    "    model_encoded1_bn = BatchNormalization()(model_encoded_1)\n",
    "    model_encoded_2 = Dense(32, activation='relu')(model_encoded1_bn)\n",
    "    model_encoded2__bn = BatchNormalization()(model_encoded_2)\n",
    "    model_encoded_3 = Dense(32, activation='relu')(model_encoded2__bn)\n",
    "    model_encoded3__bn = BatchNormalization()(model_encoded_3)\n",
    "\n",
    "    model_decoded_3 = Dense(32, activation='relu')(model_encoded3__bn)\n",
    "    model_decoded_2 = Dense(128, activation='relu')(model_decoded_3)\n",
    "    model_decoded_1 = Dense(196, activation='relu')(model_decoded_2)\n",
    "\n",
    "    ae_model = Model(inputs=model_input, outputs=model_decoded_1)\n",
    "    ae_encoder = Model(inputs=model_input, outputs=model_encoded3__bn)\n",
    "    optimize = Adam(lr=0.001, beta_1=0.9, beta_2=0.999, epsilon=1e-8)\n",
    "    ae_model.compile(loss='mse', optimizer=optimize)\n",
    "\n",
    "    # second step is to define a classifier and fine-tuning\n",
    "\n",
    "    \n",
    "\n",
    "\n",
    "    return autoendoder_1, encoder_1, autoendoder_2, encoder_2, autoendoder_3, encoder_3, ae_model"
   ]
  },
  {
   "cell_type": "code",
   "execution_count": null,
   "metadata": {},
   "outputs": [],
   "source": []
  }
 ],
 "metadata": {
  "interpreter": {
   "hash": "3a2b7882b050a6f9edaee68e4146d683b38bfa104a50adb91634f2e86778e6d4"
  },
  "kernelspec": {
   "display_name": "Python 3.9.5 ('base')",
   "language": "python",
   "name": "python3"
  },
  "language_info": {
   "codemirror_mode": {
    "name": "ipython",
    "version": 3
   },
   "file_extension": ".py",
   "mimetype": "text/x-python",
   "name": "python",
   "nbconvert_exporter": "python",
   "pygments_lexer": "ipython3",
   "version": "3.9.5"
  },
  "orig_nbformat": 4
 },
 "nbformat": 4,
 "nbformat_minor": 2
}
